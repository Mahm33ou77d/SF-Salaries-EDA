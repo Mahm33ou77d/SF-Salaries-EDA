{
 "cells": [
  {
   "cell_type": "code",
   "execution_count": 1,
   "id": "e72360f8",
   "metadata": {},
   "outputs": [],
   "source": [
    "# Imoprting Required Libraries\n",
    "\n",
    "import pandas as pd\n",
    "import numpy as np\n",
    "import matplotlib.pyplot as plt\n",
    "import seaborn as sns\n",
    "import plotly.express as px"
   ]
  },
  {
   "cell_type": "code",
   "execution_count": 3,
   "id": "22cdf073",
   "metadata": {},
   "outputs": [],
   "source": [
    "# Loading the Dataset\n",
    "\n",
    "df = pd.read_excel(\"SF Salaries.xlsx\" , sheet_name = \"Strucured\")"
   ]
  },
  {
   "cell_type": "code",
   "execution_count": 4,
   "id": "ed4abe9f",
   "metadata": {},
   "outputs": [
    {
     "data": {
      "text/html": [
       "<div>\n",
       "<style scoped>\n",
       "    .dataframe tbody tr th:only-of-type {\n",
       "        vertical-align: middle;\n",
       "    }\n",
       "\n",
       "    .dataframe tbody tr th {\n",
       "        vertical-align: top;\n",
       "    }\n",
       "\n",
       "    .dataframe thead th {\n",
       "        text-align: right;\n",
       "    }\n",
       "</style>\n",
       "<table border=\"1\" class=\"dataframe\">\n",
       "  <thead>\n",
       "    <tr style=\"text-align: right;\">\n",
       "      <th></th>\n",
       "      <th>Id</th>\n",
       "      <th>EmployeeName</th>\n",
       "      <th>JobTitle</th>\n",
       "      <th>BasePay</th>\n",
       "      <th>OvertimePay</th>\n",
       "      <th>OtherPay</th>\n",
       "      <th>Benefits</th>\n",
       "      <th>TotalPay</th>\n",
       "      <th>TotalPayBenefits</th>\n",
       "      <th>Year</th>\n",
       "      <th>Notes</th>\n",
       "      <th>Agency</th>\n",
       "      <th>Status</th>\n",
       "    </tr>\n",
       "  </thead>\n",
       "  <tbody>\n",
       "    <tr>\n",
       "      <th>0</th>\n",
       "      <td>1</td>\n",
       "      <td>NATHANIEL FORD</td>\n",
       "      <td>GENERAL MANAGER-METROPOLITAN TRANSIT AUTHORITY</td>\n",
       "      <td>167411.18</td>\n",
       "      <td>0</td>\n",
       "      <td>400184.25</td>\n",
       "      <td>NaN</td>\n",
       "      <td>567595.43</td>\n",
       "      <td>567595.43</td>\n",
       "      <td>2011</td>\n",
       "      <td>NaN</td>\n",
       "      <td>San Francisco</td>\n",
       "      <td>NaN</td>\n",
       "    </tr>\n",
       "    <tr>\n",
       "      <th>1</th>\n",
       "      <td>2</td>\n",
       "      <td>GARY JIMENEZ</td>\n",
       "      <td>CAPTAIN III (POLICE DEPARTMENT)</td>\n",
       "      <td>155966.02</td>\n",
       "      <td>245131.88</td>\n",
       "      <td>137811.38</td>\n",
       "      <td>NaN</td>\n",
       "      <td>538909.28</td>\n",
       "      <td>538909.28</td>\n",
       "      <td>2011</td>\n",
       "      <td>NaN</td>\n",
       "      <td>San Francisco</td>\n",
       "      <td>NaN</td>\n",
       "    </tr>\n",
       "    <tr>\n",
       "      <th>2</th>\n",
       "      <td>3</td>\n",
       "      <td>ALBERT PARDINI</td>\n",
       "      <td>CAPTAIN III (POLICE DEPARTMENT)</td>\n",
       "      <td>212739.13</td>\n",
       "      <td>106088.18</td>\n",
       "      <td>16452.6</td>\n",
       "      <td>NaN</td>\n",
       "      <td>335279.91</td>\n",
       "      <td>335279.91</td>\n",
       "      <td>2011</td>\n",
       "      <td>NaN</td>\n",
       "      <td>San Francisco</td>\n",
       "      <td>NaN</td>\n",
       "    </tr>\n",
       "    <tr>\n",
       "      <th>3</th>\n",
       "      <td>4</td>\n",
       "      <td>CHRISTOPHER CHONG</td>\n",
       "      <td>WIRE ROPE CABLE MAINTENANCE MECHANIC</td>\n",
       "      <td>77916</td>\n",
       "      <td>56120.71</td>\n",
       "      <td>198306.9</td>\n",
       "      <td>NaN</td>\n",
       "      <td>332343.61</td>\n",
       "      <td>332343.61</td>\n",
       "      <td>2011</td>\n",
       "      <td>NaN</td>\n",
       "      <td>San Francisco</td>\n",
       "      <td>NaN</td>\n",
       "    </tr>\n",
       "    <tr>\n",
       "      <th>4</th>\n",
       "      <td>5</td>\n",
       "      <td>PATRICK GARDNER</td>\n",
       "      <td>DEPUTY CHIEF OF DEPARTMENT,(FIRE DEPARTMENT)</td>\n",
       "      <td>134401.6</td>\n",
       "      <td>9737</td>\n",
       "      <td>182234.59</td>\n",
       "      <td>NaN</td>\n",
       "      <td>326373.19</td>\n",
       "      <td>326373.19</td>\n",
       "      <td>2011</td>\n",
       "      <td>NaN</td>\n",
       "      <td>San Francisco</td>\n",
       "      <td>NaN</td>\n",
       "    </tr>\n",
       "  </tbody>\n",
       "</table>\n",
       "</div>"
      ],
      "text/plain": [
       "   Id       EmployeeName                                        JobTitle  \\\n",
       "0   1     NATHANIEL FORD  GENERAL MANAGER-METROPOLITAN TRANSIT AUTHORITY   \n",
       "1   2       GARY JIMENEZ                 CAPTAIN III (POLICE DEPARTMENT)   \n",
       "2   3     ALBERT PARDINI                 CAPTAIN III (POLICE DEPARTMENT)   \n",
       "3   4  CHRISTOPHER CHONG            WIRE ROPE CABLE MAINTENANCE MECHANIC   \n",
       "4   5    PATRICK GARDNER    DEPUTY CHIEF OF DEPARTMENT,(FIRE DEPARTMENT)   \n",
       "\n",
       "     BasePay OvertimePay   OtherPay Benefits   TotalPay  TotalPayBenefits  \\\n",
       "0  167411.18           0  400184.25      NaN  567595.43         567595.43   \n",
       "1  155966.02   245131.88  137811.38      NaN  538909.28         538909.28   \n",
       "2  212739.13   106088.18    16452.6      NaN  335279.91         335279.91   \n",
       "3      77916    56120.71   198306.9      NaN  332343.61         332343.61   \n",
       "4   134401.6        9737  182234.59      NaN  326373.19         326373.19   \n",
       "\n",
       "   Year  Notes         Agency Status  \n",
       "0  2011    NaN  San Francisco    NaN  \n",
       "1  2011    NaN  San Francisco    NaN  \n",
       "2  2011    NaN  San Francisco    NaN  \n",
       "3  2011    NaN  San Francisco    NaN  \n",
       "4  2011    NaN  San Francisco    NaN  "
      ]
     },
     "execution_count": 4,
     "metadata": {},
     "output_type": "execute_result"
    }
   ],
   "source": [
    "# Retrieving the Top 5 Records or Rows to get a brief Overview about Dataset (Impression)\n",
    "\n",
    "df.head()   #df.tail() or df.sample()"
   ]
  },
  {
   "cell_type": "code",
   "execution_count": 6,
   "id": "528705af",
   "metadata": {},
   "outputs": [
    {
     "name": "stdout",
     "output_type": "stream",
     "text": [
      "<class 'pandas.core.frame.DataFrame'>\n",
      "RangeIndex: 148654 entries, 0 to 148653\n",
      "Data columns (total 13 columns):\n",
      " #   Column            Non-Null Count   Dtype  \n",
      "---  ------            --------------   -----  \n",
      " 0   Id                148654 non-null  int64  \n",
      " 1   EmployeeName      148654 non-null  object \n",
      " 2   JobTitle          148654 non-null  object \n",
      " 3   BasePay           148049 non-null  object \n",
      " 4   OvertimePay       148654 non-null  object \n",
      " 5   OtherPay          148654 non-null  object \n",
      " 6   Benefits          112495 non-null  object \n",
      " 7   TotalPay          148654 non-null  float64\n",
      " 8   TotalPayBenefits  148654 non-null  float64\n",
      " 9   Year              148654 non-null  int64  \n",
      " 10  Notes             0 non-null       float64\n",
      " 11  Agency            148654 non-null  object \n",
      " 12  Status            38119 non-null   object \n",
      "dtypes: float64(3), int64(2), object(8)\n",
      "memory usage: 14.7+ MB\n"
     ]
    }
   ],
   "source": [
    "# Restoring Breif Information About our Dataset ( # of Rows & # of Features & Column Names & Datatypes & # of Non Null Values)\n",
    "\n",
    "df.info()"
   ]
  },
  {
   "cell_type": "code",
   "execution_count": 8,
   "id": "4e005fb3",
   "metadata": {},
   "outputs": [
    {
     "data": {
      "text/html": [
       "<div>\n",
       "<style scoped>\n",
       "    .dataframe tbody tr th:only-of-type {\n",
       "        vertical-align: middle;\n",
       "    }\n",
       "\n",
       "    .dataframe tbody tr th {\n",
       "        vertical-align: top;\n",
       "    }\n",
       "\n",
       "    .dataframe thead th {\n",
       "        text-align: right;\n",
       "    }\n",
       "</style>\n",
       "<table border=\"1\" class=\"dataframe\">\n",
       "  <thead>\n",
       "    <tr style=\"text-align: right;\">\n",
       "      <th></th>\n",
       "      <th>Id</th>\n",
       "      <th>TotalPay</th>\n",
       "      <th>TotalPayBenefits</th>\n",
       "      <th>Year</th>\n",
       "      <th>Notes</th>\n",
       "    </tr>\n",
       "  </thead>\n",
       "  <tbody>\n",
       "    <tr>\n",
       "      <th>count</th>\n",
       "      <td>148654.0</td>\n",
       "      <td>148654.0</td>\n",
       "      <td>148654.0</td>\n",
       "      <td>148654.0</td>\n",
       "      <td>0.0</td>\n",
       "    </tr>\n",
       "    <tr>\n",
       "      <th>mean</th>\n",
       "      <td>74328.0</td>\n",
       "      <td>74768.0</td>\n",
       "      <td>93693.0</td>\n",
       "      <td>2013.0</td>\n",
       "      <td>NaN</td>\n",
       "    </tr>\n",
       "    <tr>\n",
       "      <th>std</th>\n",
       "      <td>42913.0</td>\n",
       "      <td>50517.0</td>\n",
       "      <td>62794.0</td>\n",
       "      <td>1.0</td>\n",
       "      <td>NaN</td>\n",
       "    </tr>\n",
       "    <tr>\n",
       "      <th>min</th>\n",
       "      <td>1.0</td>\n",
       "      <td>-618.0</td>\n",
       "      <td>-618.0</td>\n",
       "      <td>2011.0</td>\n",
       "      <td>NaN</td>\n",
       "    </tr>\n",
       "    <tr>\n",
       "      <th>25%</th>\n",
       "      <td>37164.0</td>\n",
       "      <td>36169.0</td>\n",
       "      <td>44066.0</td>\n",
       "      <td>2012.0</td>\n",
       "      <td>NaN</td>\n",
       "    </tr>\n",
       "    <tr>\n",
       "      <th>50%</th>\n",
       "      <td>74328.0</td>\n",
       "      <td>71427.0</td>\n",
       "      <td>92404.0</td>\n",
       "      <td>2013.0</td>\n",
       "      <td>NaN</td>\n",
       "    </tr>\n",
       "    <tr>\n",
       "      <th>75%</th>\n",
       "      <td>111491.0</td>\n",
       "      <td>105839.0</td>\n",
       "      <td>132876.0</td>\n",
       "      <td>2014.0</td>\n",
       "      <td>NaN</td>\n",
       "    </tr>\n",
       "    <tr>\n",
       "      <th>max</th>\n",
       "      <td>148654.0</td>\n",
       "      <td>567595.0</td>\n",
       "      <td>567595.0</td>\n",
       "      <td>2014.0</td>\n",
       "      <td>NaN</td>\n",
       "    </tr>\n",
       "  </tbody>\n",
       "</table>\n",
       "</div>"
      ],
      "text/plain": [
       "             Id  TotalPay  TotalPayBenefits      Year  Notes\n",
       "count  148654.0  148654.0          148654.0  148654.0    0.0\n",
       "mean    74328.0   74768.0           93693.0    2013.0    NaN\n",
       "std     42913.0   50517.0           62794.0       1.0    NaN\n",
       "min         1.0    -618.0            -618.0    2011.0    NaN\n",
       "25%     37164.0   36169.0           44066.0    2012.0    NaN\n",
       "50%     74328.0   71427.0           92404.0    2013.0    NaN\n",
       "75%    111491.0  105839.0          132876.0    2014.0    NaN\n",
       "max    148654.0  567595.0          567595.0    2014.0    NaN"
      ]
     },
     "execution_count": 8,
     "metadata": {},
     "output_type": "execute_result"
    }
   ],
   "source": [
    "# Returning Statistical Insights or Statistical Summary on your Dataset\n",
    "\n",
    "df.describe().round()"
   ]
  },
  {
   "cell_type": "code",
   "execution_count": 9,
   "id": "7f9c79c1",
   "metadata": {},
   "outputs": [
    {
     "data": {
      "text/plain": [
       "Id                       0\n",
       "EmployeeName             0\n",
       "JobTitle                 0\n",
       "BasePay                605\n",
       "OvertimePay              0\n",
       "OtherPay                 0\n",
       "Benefits             36159\n",
       "TotalPay                 0\n",
       "TotalPayBenefits         0\n",
       "Year                     0\n",
       "Notes               148654\n",
       "Agency                   0\n",
       "Status              110535\n",
       "dtype: int64"
      ]
     },
     "execution_count": 9,
     "metadata": {},
     "output_type": "execute_result"
    }
   ],
   "source": [
    "# Checking For Missing or Null Values\n",
    "\n",
    "df.isna().sum()"
   ]
  },
  {
   "cell_type": "code",
   "execution_count": 10,
   "id": "0093d1b2",
   "metadata": {},
   "outputs": [
    {
     "data": {
      "text/plain": [
       "Id                       0\n",
       "EmployeeName             0\n",
       "JobTitle                 0\n",
       "BasePay                605\n",
       "OvertimePay              0\n",
       "OtherPay                 0\n",
       "Benefits             36159\n",
       "TotalPay                 0\n",
       "TotalPayBenefits         0\n",
       "Year                     0\n",
       "Notes               148654\n",
       "Agency                   0\n",
       "Status              110535\n",
       "dtype: int64"
      ]
     },
     "execution_count": 10,
     "metadata": {},
     "output_type": "execute_result"
    }
   ],
   "source": [
    "# Investigating For Null Values\n",
    "\n",
    "df.isnull().sum()"
   ]
  },
  {
   "cell_type": "code",
   "execution_count": 11,
   "id": "9866e8fe",
   "metadata": {},
   "outputs": [
    {
     "data": {
      "text/plain": [
       "0"
      ]
     },
     "execution_count": 11,
     "metadata": {},
     "output_type": "execute_result"
    }
   ],
   "source": [
    "# Detecting For Duplications\n",
    "\n",
    "df.duplicated().sum()"
   ]
  },
  {
   "cell_type": "code",
   "execution_count": 13,
   "id": "9482bea3",
   "metadata": {},
   "outputs": [
    {
     "data": {
      "text/plain": [
       "array([167411.18, 155966.02, 212739.13, ..., 6.04, 15.5, 'Not Provided'],\n",
       "      dtype=object)"
      ]
     },
     "execution_count": 13,
     "metadata": {},
     "output_type": "execute_result"
    }
   ],
   "source": [
    "# Exploring the Values the BasePay Column\n",
    "\n",
    "df[\"BasePay\"].unique()"
   ]
  },
  {
   "cell_type": "code",
   "execution_count": 14,
   "id": "7663490d",
   "metadata": {},
   "outputs": [],
   "source": [
    "# Replacing the Value of \"Not Provided\" With \"Null\" in BasePay Column\n",
    "\n",
    "df[\"BasePay\"] = df[\"BasePay\"].replace(\"Not Provided\" , np.nan)"
   ]
  },
  {
   "cell_type": "code",
   "execution_count": 15,
   "id": "cda25c42",
   "metadata": {},
   "outputs": [],
   "source": [
    "# Converting The BasePay Column to Numeric\n",
    "\n",
    "df[\"BasePay\"] = pd.to_numeric(df[\"BasePay\"])"
   ]
  },
  {
   "cell_type": "code",
   "execution_count": 16,
   "id": "5210b911",
   "metadata": {},
   "outputs": [
    {
     "data": {
      "text/plain": [
       "Id                    int64\n",
       "EmployeeName         object\n",
       "JobTitle             object\n",
       "BasePay             float64\n",
       "OvertimePay          object\n",
       "OtherPay             object\n",
       "Benefits             object\n",
       "TotalPay            float64\n",
       "TotalPayBenefits    float64\n",
       "Year                  int64\n",
       "Notes               float64\n",
       "Agency               object\n",
       "Status               object\n",
       "dtype: object"
      ]
     },
     "execution_count": 16,
     "metadata": {},
     "output_type": "execute_result"
    }
   ],
   "source": [
    "# Datatypes Virevications\n",
    "\n",
    "df.dtypes"
   ]
  },
  {
   "cell_type": "code",
   "execution_count": 17,
   "id": "1678f8bd",
   "metadata": {},
   "outputs": [
    {
     "data": {
      "text/plain": [
       "66325.44884050643"
      ]
     },
     "execution_count": 17,
     "metadata": {},
     "output_type": "execute_result"
    }
   ],
   "source": [
    "# What's the Average of BasePay Column?\n",
    "\n",
    "df[\"BasePay\"].mean()"
   ]
  },
  {
   "cell_type": "code",
   "execution_count": 18,
   "id": "b34dd1c4",
   "metadata": {},
   "outputs": [
    {
     "data": {
      "text/plain": [
       "66325.44884050643"
      ]
     },
     "execution_count": 18,
     "metadata": {},
     "output_type": "execute_result"
    }
   ],
   "source": [
    "# What's the Average of BasePay Column?\n",
    "\n",
    "np.mean(df[\"BasePay\"])"
   ]
  },
  {
   "cell_type": "code",
   "execution_count": 20,
   "id": "2b84752a",
   "metadata": {},
   "outputs": [
    {
     "data": {
      "text/plain": [
       "array([0, 245131.88, 106088.18, ..., 102.7, 56.77, 'Not Provided'],\n",
       "      dtype=object)"
      ]
     },
     "execution_count": 20,
     "metadata": {},
     "output_type": "execute_result"
    }
   ],
   "source": [
    "# Handleing Missing Values in Overtime Column\n",
    "\n",
    "df[\"OvertimePay\"].unique()"
   ]
  },
  {
   "cell_type": "code",
   "execution_count": 21,
   "id": "2e62bffd",
   "metadata": {},
   "outputs": [],
   "source": [
    "# Substituting The Value of \"Not Provided\" With Nan in Overtime Column\n",
    "\n",
    "df[\"OvertimePay\"] = df[\"OvertimePay\"].replace(\"Not Provided\" , np.nan)"
   ]
  },
  {
   "cell_type": "code",
   "execution_count": 23,
   "id": "412ef887",
   "metadata": {},
   "outputs": [],
   "source": [
    "# Transforming the Datatype in Overtime Column Into Numeric\n",
    "\n",
    "df[\"OvertimePay\"] = pd.to_numeric(df[\"OvertimePay\"])"
   ]
  },
  {
   "cell_type": "code",
   "execution_count": 24,
   "id": "a0abdd25",
   "metadata": {},
   "outputs": [
    {
     "data": {
      "text/plain": [
       "dtype('float64')"
      ]
     },
     "execution_count": 24,
     "metadata": {},
     "output_type": "execute_result"
    }
   ],
   "source": [
    "# Chicking For Datatype in Overtime Column\n",
    "\n",
    "df[\"OvertimePay\"].dtype"
   ]
  },
  {
   "cell_type": "code",
   "execution_count": 25,
   "id": "5e53d163",
   "metadata": {},
   "outputs": [
    {
     "data": {
      "text/plain": [
       "245131.88"
      ]
     },
     "execution_count": 25,
     "metadata": {},
     "output_type": "execute_result"
    }
   ],
   "source": [
    "# What's the Highest Value of Overtime Column?\n",
    "\n",
    "df[\"OvertimePay\"].max()"
   ]
  },
  {
   "cell_type": "code",
   "execution_count": 26,
   "id": "c756c123",
   "metadata": {},
   "outputs": [
    {
     "data": {
      "text/plain": [
       "245131.88"
      ]
     },
     "execution_count": 26,
     "metadata": {},
     "output_type": "execute_result"
    }
   ],
   "source": [
    "# What's the Highest Value of Overtime Column?\n",
    "\n",
    "np.max(df[\"OvertimePay\"])"
   ]
  },
  {
   "cell_type": "code",
   "execution_count": 29,
   "id": "33f23b7e",
   "metadata": {},
   "outputs": [
    {
     "data": {
      "text/html": [
       "<div>\n",
       "<style scoped>\n",
       "    .dataframe tbody tr th:only-of-type {\n",
       "        vertical-align: middle;\n",
       "    }\n",
       "\n",
       "    .dataframe tbody tr th {\n",
       "        vertical-align: top;\n",
       "    }\n",
       "\n",
       "    .dataframe thead th {\n",
       "        text-align: right;\n",
       "    }\n",
       "</style>\n",
       "<table border=\"1\" class=\"dataframe\">\n",
       "  <thead>\n",
       "    <tr style=\"text-align: right;\">\n",
       "      <th></th>\n",
       "      <th>Id</th>\n",
       "      <th>EmployeeName</th>\n",
       "      <th>JobTitle</th>\n",
       "      <th>BasePay</th>\n",
       "      <th>OvertimePay</th>\n",
       "      <th>OtherPay</th>\n",
       "      <th>Benefits</th>\n",
       "      <th>TotalPay</th>\n",
       "      <th>TotalPayBenefits</th>\n",
       "      <th>Year</th>\n",
       "      <th>Notes</th>\n",
       "      <th>Agency</th>\n",
       "      <th>Status</th>\n",
       "    </tr>\n",
       "  </thead>\n",
       "  <tbody>\n",
       "    <tr>\n",
       "      <th>24</th>\n",
       "      <td>25</td>\n",
       "      <td>JOSEPH DRISCOLL</td>\n",
       "      <td>CAPTAIN, FIRE SUPPRESSION</td>\n",
       "      <td>140546.86</td>\n",
       "      <td>97868.77</td>\n",
       "      <td>31909.28</td>\n",
       "      <td>NaN</td>\n",
       "      <td>270324.91</td>\n",
       "      <td>270324.91</td>\n",
       "      <td>2011</td>\n",
       "      <td>NaN</td>\n",
       "      <td>San Francisco</td>\n",
       "      <td>NaN</td>\n",
       "    </tr>\n",
       "  </tbody>\n",
       "</table>\n",
       "</div>"
      ],
      "text/plain": [
       "    Id     EmployeeName                   JobTitle    BasePay  OvertimePay  \\\n",
       "24  25  JOSEPH DRISCOLL  CAPTAIN, FIRE SUPPRESSION  140546.86     97868.77   \n",
       "\n",
       "    OtherPay Benefits   TotalPay  TotalPayBenefits  Year  Notes  \\\n",
       "24  31909.28      NaN  270324.91         270324.91  2011    NaN   \n",
       "\n",
       "           Agency Status  \n",
       "24  San Francisco    NaN  "
      ]
     },
     "execution_count": 29,
     "metadata": {},
     "output_type": "execute_result"
    }
   ],
   "source": [
    "# Retrieving the Job Title of JOSEPH DRISCOLL Employee Name\n",
    "\n",
    "df.loc[df[\"EmployeeName\"] == \"JOSEPH DRISCOLL\"]"
   ]
  },
  {
   "cell_type": "code",
   "execution_count": 30,
   "id": "5843f5a8",
   "metadata": {},
   "outputs": [
    {
     "data": {
      "text/html": [
       "<div>\n",
       "<style scoped>\n",
       "    .dataframe tbody tr th:only-of-type {\n",
       "        vertical-align: middle;\n",
       "    }\n",
       "\n",
       "    .dataframe tbody tr th {\n",
       "        vertical-align: top;\n",
       "    }\n",
       "\n",
       "    .dataframe thead th {\n",
       "        text-align: right;\n",
       "    }\n",
       "</style>\n",
       "<table border=\"1\" class=\"dataframe\">\n",
       "  <thead>\n",
       "    <tr style=\"text-align: right;\">\n",
       "      <th></th>\n",
       "      <th>Id</th>\n",
       "      <th>EmployeeName</th>\n",
       "      <th>JobTitle</th>\n",
       "      <th>BasePay</th>\n",
       "      <th>OvertimePay</th>\n",
       "      <th>OtherPay</th>\n",
       "      <th>Benefits</th>\n",
       "      <th>TotalPay</th>\n",
       "      <th>TotalPayBenefits</th>\n",
       "      <th>Year</th>\n",
       "      <th>Notes</th>\n",
       "      <th>Agency</th>\n",
       "      <th>Status</th>\n",
       "    </tr>\n",
       "  </thead>\n",
       "  <tbody>\n",
       "    <tr>\n",
       "      <th>24</th>\n",
       "      <td>25</td>\n",
       "      <td>JOSEPH DRISCOLL</td>\n",
       "      <td>CAPTAIN, FIRE SUPPRESSION</td>\n",
       "      <td>140546.86</td>\n",
       "      <td>97868.77</td>\n",
       "      <td>31909.28</td>\n",
       "      <td>NaN</td>\n",
       "      <td>270324.91</td>\n",
       "      <td>270324.91</td>\n",
       "      <td>2011</td>\n",
       "      <td>NaN</td>\n",
       "      <td>San Francisco</td>\n",
       "      <td>NaN</td>\n",
       "    </tr>\n",
       "  </tbody>\n",
       "</table>\n",
       "</div>"
      ],
      "text/plain": [
       "    Id     EmployeeName                   JobTitle    BasePay  OvertimePay  \\\n",
       "24  25  JOSEPH DRISCOLL  CAPTAIN, FIRE SUPPRESSION  140546.86     97868.77   \n",
       "\n",
       "    OtherPay Benefits   TotalPay  TotalPayBenefits  Year  Notes  \\\n",
       "24  31909.28      NaN  270324.91         270324.91  2011    NaN   \n",
       "\n",
       "           Agency Status  \n",
       "24  San Francisco    NaN  "
      ]
     },
     "execution_count": 30,
     "metadata": {},
     "output_type": "execute_result"
    }
   ],
   "source": [
    "# Retrieving the Job Title of JOSEPH DRISCOLL Employee Name\n",
    "\n",
    "df[df[\"EmployeeName\"] == \"JOSEPH DRISCOLL\"]"
   ]
  },
  {
   "cell_type": "code",
   "execution_count": 31,
   "id": "aabf36e1",
   "metadata": {},
   "outputs": [
    {
     "data": {
      "text/plain": [
       "24    270324.91\n",
       "Name: TotalPayBenefits, dtype: float64"
      ]
     },
     "execution_count": 31,
     "metadata": {},
     "output_type": "execute_result"
    }
   ],
   "source": [
    "# How Much Does JOSEPH DRISCOLL Get (Including Benefits)\n",
    "\n",
    "df[df[\"EmployeeName\"] == \"JOSEPH DRISCOLL\"][\"TotalPayBenefits\"]"
   ]
  },
  {
   "cell_type": "code",
   "execution_count": 32,
   "id": "0b093793",
   "metadata": {},
   "outputs": [
    {
     "data": {
      "text/plain": [
       "24    270324.91\n",
       "Name: TotalPayBenefits, dtype: float64"
      ]
     },
     "execution_count": 32,
     "metadata": {},
     "output_type": "execute_result"
    }
   ],
   "source": [
    "# How Much Does JOSEPH DRISCOLL Get (Including Benefits)\n",
    "\n",
    "df.loc[df[\"EmployeeName\"] == \"JOSEPH DRISCOLL\"][\"TotalPayBenefits\"]"
   ]
  },
  {
   "cell_type": "code",
   "execution_count": 34,
   "id": "ace8255f",
   "metadata": {},
   "outputs": [
    {
     "data": {
      "text/plain": [
       "Id                                                               1\n",
       "EmployeeName                                        NATHANIEL FORD\n",
       "JobTitle            GENERAL MANAGER-METROPOLITAN TRANSIT AUTHORITY\n",
       "BasePay                                                  167411.18\n",
       "OvertimePay                                                    0.0\n",
       "OtherPay                                                 400184.25\n",
       "Benefits                                                       NaN\n",
       "TotalPay                                                 567595.43\n",
       "TotalPayBenefits                                         567595.43\n",
       "Year                                                          2011\n",
       "Notes                                                          NaN\n",
       "Agency                                               San Francisco\n",
       "Status                                                         NaN\n",
       "Name: 0, dtype: object"
      ]
     },
     "execution_count": 34,
     "metadata": {},
     "output_type": "execute_result"
    }
   ],
   "source": [
    "# Returning The Record that Encompass The Highest Salary\n",
    "\n",
    "df.loc[df[\"TotalPayBenefits\"].idxmax()]"
   ]
  },
  {
   "cell_type": "code",
   "execution_count": 35,
   "id": "07f9dfe3",
   "metadata": {},
   "outputs": [
    {
     "data": {
      "text/html": [
       "<div>\n",
       "<style scoped>\n",
       "    .dataframe tbody tr th:only-of-type {\n",
       "        vertical-align: middle;\n",
       "    }\n",
       "\n",
       "    .dataframe tbody tr th {\n",
       "        vertical-align: top;\n",
       "    }\n",
       "\n",
       "    .dataframe thead th {\n",
       "        text-align: right;\n",
       "    }\n",
       "</style>\n",
       "<table border=\"1\" class=\"dataframe\">\n",
       "  <thead>\n",
       "    <tr style=\"text-align: right;\">\n",
       "      <th></th>\n",
       "      <th>Id</th>\n",
       "      <th>EmployeeName</th>\n",
       "      <th>JobTitle</th>\n",
       "      <th>BasePay</th>\n",
       "      <th>OvertimePay</th>\n",
       "      <th>OtherPay</th>\n",
       "      <th>Benefits</th>\n",
       "      <th>TotalPay</th>\n",
       "      <th>TotalPayBenefits</th>\n",
       "      <th>Year</th>\n",
       "      <th>Notes</th>\n",
       "      <th>Agency</th>\n",
       "      <th>Status</th>\n",
       "    </tr>\n",
       "  </thead>\n",
       "  <tbody>\n",
       "    <tr>\n",
       "      <th>0</th>\n",
       "      <td>1</td>\n",
       "      <td>NATHANIEL FORD</td>\n",
       "      <td>GENERAL MANAGER-METROPOLITAN TRANSIT AUTHORITY</td>\n",
       "      <td>167411.18</td>\n",
       "      <td>0.0</td>\n",
       "      <td>400184.25</td>\n",
       "      <td>NaN</td>\n",
       "      <td>567595.43</td>\n",
       "      <td>567595.43</td>\n",
       "      <td>2011</td>\n",
       "      <td>NaN</td>\n",
       "      <td>San Francisco</td>\n",
       "      <td>NaN</td>\n",
       "    </tr>\n",
       "  </tbody>\n",
       "</table>\n",
       "</div>"
      ],
      "text/plain": [
       "   Id    EmployeeName                                        JobTitle  \\\n",
       "0   1  NATHANIEL FORD  GENERAL MANAGER-METROPOLITAN TRANSIT AUTHORITY   \n",
       "\n",
       "     BasePay  OvertimePay   OtherPay Benefits   TotalPay  TotalPayBenefits  \\\n",
       "0  167411.18          0.0  400184.25      NaN  567595.43         567595.43   \n",
       "\n",
       "   Year  Notes         Agency Status  \n",
       "0  2011    NaN  San Francisco    NaN  "
      ]
     },
     "execution_count": 35,
     "metadata": {},
     "output_type": "execute_result"
    }
   ],
   "source": [
    "# Restoring The Record that Encompass The Highest Salary\n",
    "\n",
    "x = np.max(df[\"TotalPayBenefits\"].max())\n",
    "\n",
    "df[df[\"TotalPayBenefits\"] == x]"
   ]
  },
  {
   "cell_type": "code",
   "execution_count": 38,
   "id": "2a1f8b4e",
   "metadata": {},
   "outputs": [
    {
     "data": {
      "text/html": [
       "<div>\n",
       "<style scoped>\n",
       "    .dataframe tbody tr th:only-of-type {\n",
       "        vertical-align: middle;\n",
       "    }\n",
       "\n",
       "    .dataframe tbody tr th {\n",
       "        vertical-align: top;\n",
       "    }\n",
       "\n",
       "    .dataframe thead th {\n",
       "        text-align: right;\n",
       "    }\n",
       "</style>\n",
       "<table border=\"1\" class=\"dataframe\">\n",
       "  <thead>\n",
       "    <tr style=\"text-align: right;\">\n",
       "      <th></th>\n",
       "      <th>Id</th>\n",
       "      <th>EmployeeName</th>\n",
       "      <th>JobTitle</th>\n",
       "      <th>BasePay</th>\n",
       "      <th>OvertimePay</th>\n",
       "      <th>OtherPay</th>\n",
       "      <th>Benefits</th>\n",
       "      <th>TotalPay</th>\n",
       "      <th>TotalPayBenefits</th>\n",
       "      <th>Year</th>\n",
       "      <th>Notes</th>\n",
       "      <th>Agency</th>\n",
       "      <th>Status</th>\n",
       "    </tr>\n",
       "  </thead>\n",
       "  <tbody>\n",
       "    <tr>\n",
       "      <th>0</th>\n",
       "      <td>1</td>\n",
       "      <td>NATHANIEL FORD</td>\n",
       "      <td>GENERAL MANAGER-METROPOLITAN TRANSIT AUTHORITY</td>\n",
       "      <td>167411.18</td>\n",
       "      <td>0.0</td>\n",
       "      <td>400184.25</td>\n",
       "      <td>NaN</td>\n",
       "      <td>567595.43</td>\n",
       "      <td>567595.43</td>\n",
       "      <td>2011</td>\n",
       "      <td>NaN</td>\n",
       "      <td>San Francisco</td>\n",
       "      <td>NaN</td>\n",
       "    </tr>\n",
       "  </tbody>\n",
       "</table>\n",
       "</div>"
      ],
      "text/plain": [
       "   Id    EmployeeName                                        JobTitle  \\\n",
       "0   1  NATHANIEL FORD  GENERAL MANAGER-METROPOLITAN TRANSIT AUTHORITY   \n",
       "\n",
       "     BasePay  OvertimePay   OtherPay Benefits   TotalPay  TotalPayBenefits  \\\n",
       "0  167411.18          0.0  400184.25      NaN  567595.43         567595.43   \n",
       "\n",
       "   Year  Notes         Agency Status  \n",
       "0  2011    NaN  San Francisco    NaN  "
      ]
     },
     "execution_count": 38,
     "metadata": {},
     "output_type": "execute_result"
    }
   ],
   "source": [
    "# Restoring The Record that Encompass The Highest Salary\n",
    "\n",
    "df.loc[df[\"TotalPayBenefits\"] == df[\"TotalPayBenefits\"].max()]"
   ]
  },
  {
   "cell_type": "code",
   "execution_count": 40,
   "id": "cd0a9fff",
   "metadata": {},
   "outputs": [
    {
     "data": {
      "text/plain": [
       "0    NATHANIEL FORD\n",
       "Name: EmployeeName, dtype: object"
      ]
     },
     "execution_count": 40,
     "metadata": {},
     "output_type": "execute_result"
    }
   ],
   "source": [
    "# Restoring The Record that Encompass The Highest Salary\n",
    "\n",
    "df.nlargest(1 , 'TotalPayBenefits')[\"EmployeeName\"]"
   ]
  },
  {
   "cell_type": "code",
   "execution_count": 41,
   "id": "76dfd0d8",
   "metadata": {},
   "outputs": [
    {
     "data": {
      "text/plain": [
       "Id                                      148654\n",
       "EmployeeName                         Joe Lopez\n",
       "JobTitle            Counselor, Log Cabin Ranch\n",
       "BasePay                                    0.0\n",
       "OvertimePay                                0.0\n",
       "OtherPay                               -618.13\n",
       "Benefits                                     0\n",
       "TotalPay                               -618.13\n",
       "TotalPayBenefits                       -618.13\n",
       "Year                                      2014\n",
       "Notes                                      NaN\n",
       "Agency                           San Francisco\n",
       "Status                                      PT\n",
       "Name: 148653, dtype: object"
      ]
     },
     "execution_count": 41,
     "metadata": {},
     "output_type": "execute_result"
    }
   ],
   "source": [
    "# Restoring The Record that Encompass The Lowest Salary\n",
    "\n",
    "df.loc[df[\"TotalPayBenefits\"].idxmin()]"
   ]
  },
  {
   "cell_type": "code",
   "execution_count": 43,
   "id": "467917eb",
   "metadata": {},
   "outputs": [
    {
     "data": {
      "text/html": [
       "<div>\n",
       "<style scoped>\n",
       "    .dataframe tbody tr th:only-of-type {\n",
       "        vertical-align: middle;\n",
       "    }\n",
       "\n",
       "    .dataframe tbody tr th {\n",
       "        vertical-align: top;\n",
       "    }\n",
       "\n",
       "    .dataframe thead th {\n",
       "        text-align: right;\n",
       "    }\n",
       "</style>\n",
       "<table border=\"1\" class=\"dataframe\">\n",
       "  <thead>\n",
       "    <tr style=\"text-align: right;\">\n",
       "      <th></th>\n",
       "      <th>Id</th>\n",
       "      <th>EmployeeName</th>\n",
       "      <th>JobTitle</th>\n",
       "      <th>BasePay</th>\n",
       "      <th>OvertimePay</th>\n",
       "      <th>OtherPay</th>\n",
       "      <th>Benefits</th>\n",
       "      <th>TotalPay</th>\n",
       "      <th>TotalPayBenefits</th>\n",
       "      <th>Year</th>\n",
       "      <th>Notes</th>\n",
       "      <th>Agency</th>\n",
       "      <th>Status</th>\n",
       "    </tr>\n",
       "  </thead>\n",
       "  <tbody>\n",
       "    <tr>\n",
       "      <th>148653</th>\n",
       "      <td>148654</td>\n",
       "      <td>Joe Lopez</td>\n",
       "      <td>Counselor, Log Cabin Ranch</td>\n",
       "      <td>0.0</td>\n",
       "      <td>0.0</td>\n",
       "      <td>-618.13</td>\n",
       "      <td>0</td>\n",
       "      <td>-618.13</td>\n",
       "      <td>-618.13</td>\n",
       "      <td>2014</td>\n",
       "      <td>NaN</td>\n",
       "      <td>San Francisco</td>\n",
       "      <td>PT</td>\n",
       "    </tr>\n",
       "  </tbody>\n",
       "</table>\n",
       "</div>"
      ],
      "text/plain": [
       "            Id EmployeeName                    JobTitle  BasePay  OvertimePay  \\\n",
       "148653  148654    Joe Lopez  Counselor, Log Cabin Ranch      0.0          0.0   \n",
       "\n",
       "       OtherPay Benefits  TotalPay  TotalPayBenefits  Year  Notes  \\\n",
       "148653  -618.13        0   -618.13           -618.13  2014    NaN   \n",
       "\n",
       "               Agency Status  \n",
       "148653  San Francisco     PT  "
      ]
     },
     "execution_count": 43,
     "metadata": {},
     "output_type": "execute_result"
    }
   ],
   "source": [
    "# Restoring The Record that Encompass The Highest Salary\n",
    "\n",
    "df[df[\"TotalPayBenefits\"] == df[\"TotalPayBenefits\"].min()]"
   ]
  },
  {
   "cell_type": "code",
   "execution_count": 44,
   "id": "72ddcc78",
   "metadata": {},
   "outputs": [
    {
     "data": {
      "text/html": [
       "<div>\n",
       "<style scoped>\n",
       "    .dataframe tbody tr th:only-of-type {\n",
       "        vertical-align: middle;\n",
       "    }\n",
       "\n",
       "    .dataframe tbody tr th {\n",
       "        vertical-align: top;\n",
       "    }\n",
       "\n",
       "    .dataframe thead th {\n",
       "        text-align: right;\n",
       "    }\n",
       "</style>\n",
       "<table border=\"1\" class=\"dataframe\">\n",
       "  <thead>\n",
       "    <tr style=\"text-align: right;\">\n",
       "      <th></th>\n",
       "      <th>Id</th>\n",
       "      <th>EmployeeName</th>\n",
       "      <th>JobTitle</th>\n",
       "      <th>BasePay</th>\n",
       "      <th>OvertimePay</th>\n",
       "      <th>OtherPay</th>\n",
       "      <th>Benefits</th>\n",
       "      <th>TotalPay</th>\n",
       "      <th>TotalPayBenefits</th>\n",
       "      <th>Year</th>\n",
       "      <th>Notes</th>\n",
       "      <th>Agency</th>\n",
       "      <th>Status</th>\n",
       "    </tr>\n",
       "  </thead>\n",
       "  <tbody>\n",
       "    <tr>\n",
       "      <th>148653</th>\n",
       "      <td>148654</td>\n",
       "      <td>Joe Lopez</td>\n",
       "      <td>Counselor, Log Cabin Ranch</td>\n",
       "      <td>0.0</td>\n",
       "      <td>0.0</td>\n",
       "      <td>-618.13</td>\n",
       "      <td>0</td>\n",
       "      <td>-618.13</td>\n",
       "      <td>-618.13</td>\n",
       "      <td>2014</td>\n",
       "      <td>NaN</td>\n",
       "      <td>San Francisco</td>\n",
       "      <td>PT</td>\n",
       "    </tr>\n",
       "  </tbody>\n",
       "</table>\n",
       "</div>"
      ],
      "text/plain": [
       "            Id EmployeeName                    JobTitle  BasePay  OvertimePay  \\\n",
       "148653  148654    Joe Lopez  Counselor, Log Cabin Ranch      0.0          0.0   \n",
       "\n",
       "       OtherPay Benefits  TotalPay  TotalPayBenefits  Year  Notes  \\\n",
       "148653  -618.13        0   -618.13           -618.13  2014    NaN   \n",
       "\n",
       "               Agency Status  \n",
       "148653  San Francisco     PT  "
      ]
     },
     "execution_count": 44,
     "metadata": {},
     "output_type": "execute_result"
    }
   ],
   "source": [
    "# Restoring The Record that Encompass The Highest Salary\n",
    "\n",
    "y = df[\"TotalPayBenefits\"].min()\n",
    "\n",
    "df.loc[df[\"TotalPayBenefits\"] == y]"
   ]
  },
  {
   "cell_type": "code",
   "execution_count": 46,
   "id": "3c1129ee",
   "metadata": {},
   "outputs": [
    {
     "data": {
      "text/plain": [
       "148653    Joe Lopez\n",
       "Name: EmployeeName, dtype: object"
      ]
     },
     "execution_count": 46,
     "metadata": {},
     "output_type": "execute_result"
    }
   ],
   "source": [
    "# Restoring The Record that Encompass The Highest Salary\n",
    "\n",
    "df.nsmallest(1 , \"TotalPayBenefits\")[\"EmployeeName\"]"
   ]
  },
  {
   "cell_type": "code",
   "execution_count": 47,
   "id": "60b13b48",
   "metadata": {},
   "outputs": [
    {
     "data": {
      "text/html": [
       "<div>\n",
       "<style scoped>\n",
       "    .dataframe tbody tr th:only-of-type {\n",
       "        vertical-align: middle;\n",
       "    }\n",
       "\n",
       "    .dataframe tbody tr th {\n",
       "        vertical-align: top;\n",
       "    }\n",
       "\n",
       "    .dataframe thead th {\n",
       "        text-align: right;\n",
       "    }\n",
       "</style>\n",
       "<table border=\"1\" class=\"dataframe\">\n",
       "  <thead>\n",
       "    <tr style=\"text-align: right;\">\n",
       "      <th></th>\n",
       "      <th>Id</th>\n",
       "      <th>EmployeeName</th>\n",
       "      <th>JobTitle</th>\n",
       "      <th>BasePay</th>\n",
       "      <th>OvertimePay</th>\n",
       "      <th>OtherPay</th>\n",
       "      <th>Benefits</th>\n",
       "      <th>TotalPay</th>\n",
       "      <th>TotalPayBenefits</th>\n",
       "      <th>Year</th>\n",
       "      <th>Notes</th>\n",
       "      <th>Agency</th>\n",
       "      <th>Status</th>\n",
       "    </tr>\n",
       "  </thead>\n",
       "  <tbody>\n",
       "    <tr>\n",
       "      <th>110528</th>\n",
       "      <td>110529</td>\n",
       "      <td>Timothy E Gibson</td>\n",
       "      <td>Police Officer 3</td>\n",
       "      <td>NaN</td>\n",
       "      <td>0.0</td>\n",
       "      <td>0</td>\n",
       "      <td>-2.73</td>\n",
       "      <td>0.00</td>\n",
       "      <td>-2.73</td>\n",
       "      <td>2013</td>\n",
       "      <td>NaN</td>\n",
       "      <td>San Francisco</td>\n",
       "      <td>NaN</td>\n",
       "    </tr>\n",
       "    <tr>\n",
       "      <th>110529</th>\n",
       "      <td>110530</td>\n",
       "      <td>Mark E Laherty</td>\n",
       "      <td>Police Officer 3</td>\n",
       "      <td>NaN</td>\n",
       "      <td>0.0</td>\n",
       "      <td>0</td>\n",
       "      <td>-8.2</td>\n",
       "      <td>0.00</td>\n",
       "      <td>-8.20</td>\n",
       "      <td>2013</td>\n",
       "      <td>NaN</td>\n",
       "      <td>San Francisco</td>\n",
       "      <td>NaN</td>\n",
       "    </tr>\n",
       "    <tr>\n",
       "      <th>110530</th>\n",
       "      <td>110531</td>\n",
       "      <td>David P Kucia</td>\n",
       "      <td>Police Officer 3</td>\n",
       "      <td>NaN</td>\n",
       "      <td>0.0</td>\n",
       "      <td>0</td>\n",
       "      <td>-33.89</td>\n",
       "      <td>0.00</td>\n",
       "      <td>-33.89</td>\n",
       "      <td>2013</td>\n",
       "      <td>NaN</td>\n",
       "      <td>San Francisco</td>\n",
       "      <td>NaN</td>\n",
       "    </tr>\n",
       "    <tr>\n",
       "      <th>148653</th>\n",
       "      <td>148654</td>\n",
       "      <td>Joe Lopez</td>\n",
       "      <td>Counselor, Log Cabin Ranch</td>\n",
       "      <td>0.0</td>\n",
       "      <td>0.0</td>\n",
       "      <td>-618.13</td>\n",
       "      <td>0</td>\n",
       "      <td>-618.13</td>\n",
       "      <td>-618.13</td>\n",
       "      <td>2014</td>\n",
       "      <td>NaN</td>\n",
       "      <td>San Francisco</td>\n",
       "      <td>PT</td>\n",
       "    </tr>\n",
       "  </tbody>\n",
       "</table>\n",
       "</div>"
      ],
      "text/plain": [
       "            Id      EmployeeName                    JobTitle  BasePay  \\\n",
       "110528  110529  Timothy E Gibson            Police Officer 3      NaN   \n",
       "110529  110530    Mark E Laherty            Police Officer 3      NaN   \n",
       "110530  110531     David P Kucia            Police Officer 3      NaN   \n",
       "148653  148654         Joe Lopez  Counselor, Log Cabin Ranch      0.0   \n",
       "\n",
       "        OvertimePay OtherPay Benefits  TotalPay  TotalPayBenefits  Year  \\\n",
       "110528          0.0        0    -2.73      0.00             -2.73  2013   \n",
       "110529          0.0        0     -8.2      0.00             -8.20  2013   \n",
       "110530          0.0        0   -33.89      0.00            -33.89  2013   \n",
       "148653          0.0  -618.13        0   -618.13           -618.13  2014   \n",
       "\n",
       "        Notes         Agency Status  \n",
       "110528    NaN  San Francisco    NaN  \n",
       "110529    NaN  San Francisco    NaN  \n",
       "110530    NaN  San Francisco    NaN  \n",
       "148653    NaN  San Francisco     PT  "
      ]
     },
     "execution_count": 47,
     "metadata": {},
     "output_type": "execute_result"
    }
   ],
   "source": [
    "# Returning all Employees That The Company Own Money\n",
    "\n",
    "df.loc[df[\"TotalPayBenefits\"] < 0]"
   ]
  },
  {
   "cell_type": "code",
   "execution_count": 48,
   "id": "035087d9",
   "metadata": {},
   "outputs": [
    {
     "data": {
      "text/html": [
       "<div>\n",
       "<style scoped>\n",
       "    .dataframe tbody tr th:only-of-type {\n",
       "        vertical-align: middle;\n",
       "    }\n",
       "\n",
       "    .dataframe tbody tr th {\n",
       "        vertical-align: top;\n",
       "    }\n",
       "\n",
       "    .dataframe thead th {\n",
       "        text-align: right;\n",
       "    }\n",
       "</style>\n",
       "<table border=\"1\" class=\"dataframe\">\n",
       "  <thead>\n",
       "    <tr style=\"text-align: right;\">\n",
       "      <th></th>\n",
       "      <th>Id</th>\n",
       "      <th>EmployeeName</th>\n",
       "      <th>JobTitle</th>\n",
       "      <th>BasePay</th>\n",
       "      <th>OvertimePay</th>\n",
       "      <th>OtherPay</th>\n",
       "      <th>Benefits</th>\n",
       "      <th>TotalPay</th>\n",
       "      <th>TotalPayBenefits</th>\n",
       "      <th>Year</th>\n",
       "      <th>Notes</th>\n",
       "      <th>Agency</th>\n",
       "      <th>Status</th>\n",
       "    </tr>\n",
       "  </thead>\n",
       "  <tbody>\n",
       "    <tr>\n",
       "      <th>110528</th>\n",
       "      <td>110529</td>\n",
       "      <td>Timothy E Gibson</td>\n",
       "      <td>Police Officer 3</td>\n",
       "      <td>NaN</td>\n",
       "      <td>0.0</td>\n",
       "      <td>0</td>\n",
       "      <td>-2.73</td>\n",
       "      <td>0.00</td>\n",
       "      <td>-2.73</td>\n",
       "      <td>2013</td>\n",
       "      <td>NaN</td>\n",
       "      <td>San Francisco</td>\n",
       "      <td>NaN</td>\n",
       "    </tr>\n",
       "    <tr>\n",
       "      <th>110529</th>\n",
       "      <td>110530</td>\n",
       "      <td>Mark E Laherty</td>\n",
       "      <td>Police Officer 3</td>\n",
       "      <td>NaN</td>\n",
       "      <td>0.0</td>\n",
       "      <td>0</td>\n",
       "      <td>-8.2</td>\n",
       "      <td>0.00</td>\n",
       "      <td>-8.20</td>\n",
       "      <td>2013</td>\n",
       "      <td>NaN</td>\n",
       "      <td>San Francisco</td>\n",
       "      <td>NaN</td>\n",
       "    </tr>\n",
       "    <tr>\n",
       "      <th>110530</th>\n",
       "      <td>110531</td>\n",
       "      <td>David P Kucia</td>\n",
       "      <td>Police Officer 3</td>\n",
       "      <td>NaN</td>\n",
       "      <td>0.0</td>\n",
       "      <td>0</td>\n",
       "      <td>-33.89</td>\n",
       "      <td>0.00</td>\n",
       "      <td>-33.89</td>\n",
       "      <td>2013</td>\n",
       "      <td>NaN</td>\n",
       "      <td>San Francisco</td>\n",
       "      <td>NaN</td>\n",
       "    </tr>\n",
       "    <tr>\n",
       "      <th>148653</th>\n",
       "      <td>148654</td>\n",
       "      <td>Joe Lopez</td>\n",
       "      <td>Counselor, Log Cabin Ranch</td>\n",
       "      <td>0.0</td>\n",
       "      <td>0.0</td>\n",
       "      <td>-618.13</td>\n",
       "      <td>0</td>\n",
       "      <td>-618.13</td>\n",
       "      <td>-618.13</td>\n",
       "      <td>2014</td>\n",
       "      <td>NaN</td>\n",
       "      <td>San Francisco</td>\n",
       "      <td>PT</td>\n",
       "    </tr>\n",
       "  </tbody>\n",
       "</table>\n",
       "</div>"
      ],
      "text/plain": [
       "            Id      EmployeeName                    JobTitle  BasePay  \\\n",
       "110528  110529  Timothy E Gibson            Police Officer 3      NaN   \n",
       "110529  110530    Mark E Laherty            Police Officer 3      NaN   \n",
       "110530  110531     David P Kucia            Police Officer 3      NaN   \n",
       "148653  148654         Joe Lopez  Counselor, Log Cabin Ranch      0.0   \n",
       "\n",
       "        OvertimePay OtherPay Benefits  TotalPay  TotalPayBenefits  Year  \\\n",
       "110528          0.0        0    -2.73      0.00             -2.73  2013   \n",
       "110529          0.0        0     -8.2      0.00             -8.20  2013   \n",
       "110530          0.0        0   -33.89      0.00            -33.89  2013   \n",
       "148653          0.0  -618.13        0   -618.13           -618.13  2014   \n",
       "\n",
       "        Notes         Agency Status  \n",
       "110528    NaN  San Francisco    NaN  \n",
       "110529    NaN  San Francisco    NaN  \n",
       "110530    NaN  San Francisco    NaN  \n",
       "148653    NaN  San Francisco     PT  "
      ]
     },
     "execution_count": 48,
     "metadata": {},
     "output_type": "execute_result"
    }
   ],
   "source": [
    "# Returning all Employees That The Company Own Money\n",
    "\n",
    "df[df[\"TotalPayBenefits\"] < 0]"
   ]
  },
  {
   "cell_type": "code",
   "execution_count": 49,
   "id": "4b2076eb",
   "metadata": {},
   "outputs": [
    {
     "data": {
      "text/plain": [
       "array([2011, 2012, 2013, 2014], dtype=int64)"
      ]
     },
     "execution_count": 49,
     "metadata": {},
     "output_type": "execute_result"
    }
   ],
   "source": [
    "# Descovering Values in Year Column\n",
    "\n",
    "df[\"Year\"].unique()"
   ]
  },
  {
   "cell_type": "code",
   "execution_count": 57,
   "id": "07a2284c",
   "metadata": {},
   "outputs": [
    {
     "data": {
      "text/html": [
       "<div>\n",
       "<style scoped>\n",
       "    .dataframe tbody tr th:only-of-type {\n",
       "        vertical-align: middle;\n",
       "    }\n",
       "\n",
       "    .dataframe tbody tr th {\n",
       "        vertical-align: top;\n",
       "    }\n",
       "\n",
       "    .dataframe thead th {\n",
       "        text-align: right;\n",
       "    }\n",
       "</style>\n",
       "<table border=\"1\" class=\"dataframe\">\n",
       "  <thead>\n",
       "    <tr style=\"text-align: right;\">\n",
       "      <th></th>\n",
       "      <th>Year</th>\n",
       "      <th>BasePay</th>\n",
       "    </tr>\n",
       "  </thead>\n",
       "  <tbody>\n",
       "    <tr>\n",
       "      <th>2</th>\n",
       "      <td>2013</td>\n",
       "      <td>69630.030216</td>\n",
       "    </tr>\n",
       "    <tr>\n",
       "      <th>3</th>\n",
       "      <td>2014</td>\n",
       "      <td>66564.421924</td>\n",
       "    </tr>\n",
       "    <tr>\n",
       "      <th>1</th>\n",
       "      <td>2012</td>\n",
       "      <td>65436.406857</td>\n",
       "    </tr>\n",
       "    <tr>\n",
       "      <th>0</th>\n",
       "      <td>2011</td>\n",
       "      <td>63595.956517</td>\n",
       "    </tr>\n",
       "  </tbody>\n",
       "</table>\n",
       "</div>"
      ],
      "text/plain": [
       "   Year       BasePay\n",
       "2  2013  69630.030216\n",
       "3  2014  66564.421924\n",
       "1  2012  65436.406857\n",
       "0  2011  63595.956517"
      ]
     },
     "execution_count": 57,
     "metadata": {},
     "output_type": "execute_result"
    }
   ],
   "source": [
    "# What's The Average BasePay In Terms Of Years\n",
    "\n",
    "df.groupby(\"Year\" , as_index = False)[\"BasePay\"].mean().sort_values(by = \"BasePay\" , ascending = False)"
   ]
  },
  {
   "cell_type": "code",
   "execution_count": 67,
   "id": "f66aa689",
   "metadata": {},
   "outputs": [
    {
     "data": {
      "image/png": "[encoded data removed]",
      "text/plain": [
       "<Figure size 1200x400 with 1 Axes>"
      ]
     },
     "metadata": {},
     "output_type": "display_data"
    }
   ],
   "source": [
    "# Ploting What's The Average BasePay In Terms Of Years\n",
    "\n",
    "plt.figure(figsize = (12 , 4))\n",
    "df.groupby(\"Year\" )[\"BasePay\"].mean().sort_values( ascending = False).plot( kind = 'bar' , color = 'g')\n",
    "plt.xticks(rotation = 0.25)\n",
    "plt.show()"
   ]
  },
  {
   "cell_type": "code",
   "execution_count": 52,
   "id": "a077c8bb",
   "metadata": {},
   "outputs": [
    {
     "data": {
      "text/html": [
       "<div>\n",
       "<style scoped>\n",
       "    .dataframe tbody tr th:only-of-type {\n",
       "        vertical-align: middle;\n",
       "    }\n",
       "\n",
       "    .dataframe tbody tr th {\n",
       "        vertical-align: top;\n",
       "    }\n",
       "\n",
       "    .dataframe thead th {\n",
       "        text-align: right;\n",
       "    }\n",
       "</style>\n",
       "<table border=\"1\" class=\"dataframe\">\n",
       "  <thead>\n",
       "    <tr style=\"text-align: right;\">\n",
       "      <th></th>\n",
       "      <th>BasePay</th>\n",
       "    </tr>\n",
       "    <tr>\n",
       "      <th>Year</th>\n",
       "      <th></th>\n",
       "    </tr>\n",
       "  </thead>\n",
       "  <tbody>\n",
       "    <tr>\n",
       "      <th>2011</th>\n",
       "      <td>63595.956517</td>\n",
       "    </tr>\n",
       "    <tr>\n",
       "      <th>2012</th>\n",
       "      <td>65436.406857</td>\n",
       "    </tr>\n",
       "    <tr>\n",
       "      <th>2013</th>\n",
       "      <td>69630.030216</td>\n",
       "    </tr>\n",
       "    <tr>\n",
       "      <th>2014</th>\n",
       "      <td>66564.421924</td>\n",
       "    </tr>\n",
       "  </tbody>\n",
       "</table>\n",
       "</div>"
      ],
      "text/plain": [
       "           BasePay\n",
       "Year              \n",
       "2011  63595.956517\n",
       "2012  65436.406857\n",
       "2013  69630.030216\n",
       "2014  66564.421924"
      ]
     },
     "execution_count": 52,
     "metadata": {},
     "output_type": "execute_result"
    }
   ],
   "source": [
    "# What's The Average BasePay In Terms Of Years\n",
    "\n",
    "df.pivot_table( index = \"Year\" , values = \"BasePay\" , aggfunc = \"mean\")"
   ]
  },
  {
   "cell_type": "code",
   "execution_count": 68,
   "id": "6d9169f6",
   "metadata": {},
   "outputs": [
    {
     "data": {
      "text/plain": [
       "2159"
      ]
     },
     "execution_count": 68,
     "metadata": {},
     "output_type": "execute_result"
    }
   ],
   "source": [
    "# How Many Unique Job Titles Are There\n",
    "\n",
    "df[\"JobTitle\"].nunique()"
   ]
  },
  {
   "cell_type": "code",
   "execution_count": 69,
   "id": "22118dd4",
   "metadata": {},
   "outputs": [
    {
     "data": {
      "text/plain": [
       "Transit Operator                7036\n",
       "Special Nurse                   4389\n",
       "Registered Nurse                3736\n",
       "Public Svc Aide-Public Works    2518\n",
       "Police Officer 3                2421\n",
       "Name: JobTitle, dtype: int64"
      ]
     },
     "execution_count": 69,
     "metadata": {},
     "output_type": "execute_result"
    }
   ],
   "source": [
    "# What Are The Top 5 Most Common Job Titles?\n",
    "\n",
    "df[\"JobTitle\"].value_counts().head()"
   ]
  },
  {
   "cell_type": "code",
   "execution_count": 71,
   "id": "33435c30",
   "metadata": {},
   "outputs": [
    {
     "data": {
      "text/plain": [
       "Transit Operator                7036\n",
       "Special Nurse                   4389\n",
       "Registered Nurse                3736\n",
       "Public Svc Aide-Public Works    2518\n",
       "Police Officer 3                2421\n",
       "Name: JobTitle, dtype: int64"
      ]
     },
     "execution_count": 71,
     "metadata": {},
     "output_type": "execute_result"
    }
   ],
   "source": [
    "# What Are The Top 5 Most Common Job Titles?\n",
    "\n",
    "df[\"JobTitle\"].value_counts()[0:5]"
   ]
  },
  {
   "cell_type": "code",
   "execution_count": 79,
   "id": "1d5b4497",
   "metadata": {},
   "outputs": [
    {
     "data": {
      "text/plain": [
       "JobTitle\n",
       "Transit Operator                7036\n",
       "Special Nurse                   4389\n",
       "Registered Nurse                3736\n",
       "Public Svc Aide-Public Works    2518\n",
       "Police Officer 3                2421\n",
       "Name: JobTitle, dtype: int64"
      ]
     },
     "execution_count": 79,
     "metadata": {},
     "output_type": "execute_result"
    }
   ],
   "source": [
    "# What Are The Top 5 Most Common Job Titles?\n",
    "\n",
    "df.groupby([\"JobTitle\"])[\"JobTitle\"].count().sort_values( ascending = False).head()"
   ]
  },
  {
   "cell_type": "code",
   "execution_count": 73,
   "id": "fc083630",
   "metadata": {},
   "outputs": [
    {
     "data": {
      "text/plain": [
       "CHIEF HOUSING INSPECTOR                           1\n",
       "TRAFFIC SIGNAL OPERATOR                           1\n",
       "COURT COMPUTER FACILITIES COORDINATOR             1\n",
       "AUTOMOTIVE BODY AND FENDER WORKER SUPERVISOR I    1\n",
       "VICTIM & WITNESS TECHNICIAN                       1\n",
       "Name: JobTitle, dtype: int64"
      ]
     },
     "execution_count": 73,
     "metadata": {},
     "output_type": "execute_result"
    }
   ],
   "source": [
    "# What Are The Bottom 5 Most Common Job Titles?\n",
    "\n",
    "df[\"JobTitle\"].value_counts().tail()"
   ]
  },
  {
   "cell_type": "code",
   "execution_count": 86,
   "id": "0e8b0945",
   "metadata": {},
   "outputs": [
    {
     "data": {
      "text/plain": [
       "202"
      ]
     },
     "execution_count": 86,
     "metadata": {},
     "output_type": "execute_result"
    }
   ],
   "source": [
    "# Number Of Titles That Have Been Repeated Just One Time In 2013\n",
    "\n",
    "(df[df[\"Year\"] == 2013]['JobTitle'].value_counts() == 1).sum()"
   ]
  },
  {
   "cell_type": "code",
   "execution_count": 89,
   "id": "5e97446b",
   "metadata": {},
   "outputs": [
    {
     "data": {
      "text/plain": [
       "627"
      ]
     },
     "execution_count": 89,
     "metadata": {},
     "output_type": "execute_result"
    }
   ],
   "source": [
    "# Calculating The Number Of Records That Contains Word Chief In Title Column\n",
    "\n",
    "df.loc[df[\"JobTitle\"].str.contains('Chief' , na = False , case = False)].shape[0]"
   ]
  },
  {
   "cell_type": "code",
   "execution_count": 101,
   "id": "cf409d17",
   "metadata": {},
   "outputs": [],
   "source": [
    "# Construct a Function to Return The Number of Records That Contains Chief In Job Title\n",
    "\n",
    "def Chief(String):\n",
    "    if 'chief' in (String.lower()):\n",
    "        return True\n",
    "    else:\n",
    "        return False"
   ]
  },
  {
   "cell_type": "code",
   "execution_count": 93,
   "id": "fe46e837",
   "metadata": {},
   "outputs": [
    {
     "data": {
      "text/plain": [
       "0    GENERAL MANAGER-METROPOLITAN TRANSIT AUTHORITY\n",
       "1                   CAPTAIN III (POLICE DEPARTMENT)\n",
       "2                   CAPTAIN III (POLICE DEPARTMENT)\n",
       "3              WIRE ROPE CABLE MAINTENANCE MECHANIC\n",
       "4      DEPUTY CHIEF OF DEPARTMENT,(FIRE DEPARTMENT)\n",
       "Name: JobTitle, dtype: object"
      ]
     },
     "execution_count": 93,
     "metadata": {},
     "output_type": "execute_result"
    }
   ],
   "source": [
    "df[\"JobTitle\"].head()"
   ]
  },
  {
   "cell_type": "code",
   "execution_count": 102,
   "id": "6905515c",
   "metadata": {},
   "outputs": [
    {
     "data": {
      "text/plain": [
       "True"
      ]
     },
     "execution_count": 102,
     "metadata": {},
     "output_type": "execute_result"
    }
   ],
   "source": [
    "# Checking For The Function Accuracy\n",
    "\n",
    "Chief('CHIEF MANAGER-METROPOLITAN TRANSIT AUTHORITY')"
   ]
  },
  {
   "cell_type": "code",
   "execution_count": 103,
   "id": "bc2e59f2",
   "metadata": {},
   "outputs": [
    {
     "data": {
      "text/plain": [
       "627"
      ]
     },
     "execution_count": 103,
     "metadata": {},
     "output_type": "execute_result"
    }
   ],
   "source": [
    "# Applying The Function That We've Built\n",
    "\n",
    "(df[\"JobTitle\"].apply(lambda x : Chief(x))).sum()"
   ]
  },
  {
   "cell_type": "code",
   "execution_count": 104,
   "id": "055f3477",
   "metadata": {},
   "outputs": [
    {
     "data": {
      "text/plain": [
       "627"
      ]
     },
     "execution_count": 104,
     "metadata": {},
     "output_type": "execute_result"
    }
   ],
   "source": [
    "# Applying The Function That We've Built\n",
    "\n",
    "sum(df[\"JobTitle\"].apply(lambda x : Chief(x)))"
   ]
  },
  {
   "cell_type": "code",
   "execution_count": 105,
   "id": "0939c0b2",
   "metadata": {},
   "outputs": [],
   "source": [
    "# Adding A New Column That Contains The Number Of Letters in Job Titles\n",
    "\n",
    "df[\"JobLenght\"] = df[\"JobTitle\"].apply(len)"
   ]
  },
  {
   "cell_type": "code",
   "execution_count": 107,
   "id": "fbc6cae5",
   "metadata": {},
   "outputs": [
    {
     "data": {
      "text/plain": [
       "109512    13\n",
       "116268    18\n",
       "53743     25\n",
       "15167     25\n",
       "12494     16\n",
       "Name: JobLenght, dtype: int64"
      ]
     },
     "execution_count": 107,
     "metadata": {},
     "output_type": "execute_result"
    }
   ],
   "source": [
    "# Displaying The JobLength Column\n",
    "\n",
    "df[\"JobLenght\"].sample(5)"
   ]
  },
  {
   "cell_type": "code",
   "execution_count": 110,
   "id": "61944d36",
   "metadata": {},
   "outputs": [
    {
     "data": {
      "text/html": [
       "<div>\n",
       "<style scoped>\n",
       "    .dataframe tbody tr th:only-of-type {\n",
       "        vertical-align: middle;\n",
       "    }\n",
       "\n",
       "    .dataframe tbody tr th {\n",
       "        vertical-align: top;\n",
       "    }\n",
       "\n",
       "    .dataframe thead th {\n",
       "        text-align: right;\n",
       "    }\n",
       "</style>\n",
       "<table border=\"1\" class=\"dataframe\">\n",
       "  <thead>\n",
       "    <tr style=\"text-align: right;\">\n",
       "      <th></th>\n",
       "      <th>JobLenght</th>\n",
       "      <th>TotalPayBenefits</th>\n",
       "    </tr>\n",
       "  </thead>\n",
       "  <tbody>\n",
       "    <tr>\n",
       "      <th>JobLenght</th>\n",
       "      <td>1.000000</td>\n",
       "      <td>-0.036878</td>\n",
       "    </tr>\n",
       "    <tr>\n",
       "      <th>TotalPayBenefits</th>\n",
       "      <td>-0.036878</td>\n",
       "      <td>1.000000</td>\n",
       "    </tr>\n",
       "  </tbody>\n",
       "</table>\n",
       "</div>"
      ],
      "text/plain": [
       "                  JobLenght  TotalPayBenefits\n",
       "JobLenght          1.000000         -0.036878\n",
       "TotalPayBenefits  -0.036878          1.000000"
      ]
     },
     "execution_count": 110,
     "metadata": {},
     "output_type": "execute_result"
    }
   ],
   "source": [
    "# Checking the Correlatino Between Joblength & Salary\n",
    "\n",
    "df[[\"JobLenght\" , \"TotalPayBenefits\"]].corr()"
   ]
  },
  {
   "cell_type": "code",
   "execution_count": 112,
   "id": "f1037c86",
   "metadata": {},
   "outputs": [
    {
     "data": {
      "text/plain": [
       "-0.03687844593260668"
      ]
     },
     "execution_count": 112,
     "metadata": {},
     "output_type": "execute_result"
    }
   ],
   "source": [
    "# Investigating the Correlation Between Two Variables\n",
    "\n",
    "df[\"JobLenght\"].corr(df[\"TotalPayBenefits\"])"
   ]
  },
  {
   "cell_type": "code",
   "execution_count": 113,
   "id": "95f909a2",
   "metadata": {},
   "outputs": [
    {
     "data": {
      "text/plain": [
       "-0.036878445932606675"
      ]
     },
     "execution_count": 113,
     "metadata": {},
     "output_type": "execute_result"
    }
   ],
   "source": [
    "# Investigating the Correlation Between Two Variables\n",
    "\n",
    "df[\"TotalPayBenefits\"].corr(df[\"JobLenght\"])"
   ]
  },
  {
   "cell_type": "code",
   "execution_count": 118,
   "id": "b9e0d0d2",
   "metadata": {},
   "outputs": [
    {
     "data": {
      "image/png": "[encoded data removed]",
      "text/plain": [
       "<Figure size 640x480 with 2 Axes>"
      ]
     },
     "metadata": {},
     "output_type": "display_data"
    }
   ],
   "source": [
    "# Investigating the Correlation Between Two Variables\n",
    "\n",
    "sns.heatmap(df[[\"JobLenght\" , \"TotalPayBenefits\"]].corr() , annot = True , cmap = 'coolwarm' , fmt = '.2f')\n",
    "plt.title(\"\\nCorrelation Between Variables\\n\")\n",
    "plt.show()"
   ]
  },
  {
   "cell_type": "code",
   "execution_count": 119,
   "id": "99a6a331",
   "metadata": {},
   "outputs": [
    {
     "data": {
      "image/png": "[encoded data removed]",
      "text/plain": [
       "<Figure size 640x480 with 1 Axes>"
      ]
     },
     "metadata": {},
     "output_type": "display_data"
    }
   ],
   "source": [
    "# Visualising the Correlation Between Variables\n",
    "\n",
    "sns.regplot( x = df[\"TotalPayBenefits\"] , y = df[\"JobLenght\"])\n",
    "\n",
    "plt.title(\"Correlation Between Salary VS JobLength\")\n",
    "\n",
    "plt.show()"
   ]
  },
  {
   "cell_type": "code",
   "execution_count": 126,
   "id": "caa98e0f",
   "metadata": {},
   "outputs": [
    {
     "data": {
      "text/plain": [
       "dtype('float64')"
      ]
     },
     "execution_count": 126,
     "metadata": {},
     "output_type": "execute_result"
    }
   ],
   "source": [
    "# Checking The Datatype inside The Column Column Of TotalPayBenefits\n",
    "\n",
    "df[\"TotalPayBenefits\"].dtype"
   ]
  },
  {
   "cell_type": "code",
   "execution_count": 127,
   "id": "0002f3d9",
   "metadata": {},
   "outputs": [],
   "source": [
    "# Converting The Datatype into Int Inside TotalPayBenefits Column\n",
    "\n",
    "df[\"TotalPayBenefits\"] = df[\"TotalPayBenefits\"].astype(int)"
   ]
  },
  {
   "cell_type": "code",
   "execution_count": 129,
   "id": "10b7025e",
   "metadata": {},
   "outputs": [],
   "source": [
    "# Converting The Datatype into Int Inside TotalPayBenefits Column\n",
    "\n",
    "df[\"Year\"] = df[\"Year\"].astype(int)"
   ]
  },
  {
   "cell_type": "code",
   "execution_count": 130,
   "id": "26a3daff",
   "metadata": {},
   "outputs": [
    {
     "data": {
      "image/png": "[encoded data removed]",
      "text/plain": [
       "<Figure size 1200x400 with 1 Axes>"
      ]
     },
     "metadata": {},
     "output_type": "display_data"
    }
   ],
   "source": [
    "# Time Series Analysis\n",
    "\n",
    "plt.figure(figsize = (12 , 4))\n",
    "plt.plot( df[\"Year\"] , df[\"TotalPayBenefits\"] , marker = 'o' , linestyle = '--' , color = 'b' , label = 'TotalPayBenefits')\n",
    "\n",
    "plt.title(\"\\nTime Series Analysis\\n\")\n",
    "plt.grid()\n",
    "plt.legend()\n",
    "plt.show()"
   ]
  },
  {
   "cell_type": "code",
   "execution_count": 132,
   "id": "74b59bfe",
   "metadata": {},
   "outputs": [
    {
     "data": {
      "image/png": "[encoded data removed]",
      "text/plain": [
       "<Figure size 1000x400 with 1 Axes>"
      ]
     },
     "metadata": {},
     "output_type": "display_data"
    }
   ],
   "source": [
    "# Time Series Analysis\n",
    "\n",
    "plt.figure(figsize = (10 , 4))\n",
    "sns.lineplot(y = df[\"TotalPayBenefits\"] , x = df[\"Year\"] , data = df , markers = 'o' , linewidth = 2.5)\n",
    "plt.title(\"\\nTime Series Analysis\\n\")\n",
    "plt.show()"
   ]
  },
  {
   "cell_type": "code",
   "execution_count": 145,
   "id": "7d35cd0a",
   "metadata": {},
   "outputs": [
    {
     "data": {
      "image/png": "[encoded data removed]",
      "text/plain": [
       "<Figure size 1200x500 with 1 Axes>"
      ]
     },
     "metadata": {},
     "output_type": "display_data"
    }
   ],
   "source": [
    "# Displaying Time Serias Analysis\n",
    "\n",
    "x = df.groupby('Year')['TotalPayBenefits'].sum()\n",
    "\n",
    "plt.figure(figsize = (12 , 5))\n",
    "plt.plot(x.index , x.values , marker = 'o' , linestyle = '--' , color = 'r')\n",
    "\n",
    "plt.title('\\nSalaries By Years\\n')\n",
    "plt.xlabel('\\nYear\\n')\n",
    "plt.ylabel('\\nSalaries\\n')\n",
    "\n",
    "plt.grid(axis = 'x' , linestyle = '--' , alpha = 0.7)\n",
    "plt.grid(axis = 'y' , linestyle = '--' , alpha = 0.7)\n",
    "\n",
    "plt.show()"
   ]
  },
  {
   "cell_type": "code",
   "execution_count": null,
   "id": "eccfe602",
   "metadata": {},
   "outputs": [],
   "source": []
  }
 ],
 "metadata": {
  "kernelspec": {
   "display_name": "Python 3 (ipykernel)",
   "language": "python",
   "name": "python3"
  },
  "language_info": {
   "codemirror_mode": {
    "name": "ipython",
    "version": 3
   },
   "file_extension": ".py",
   "mimetype": "text/x-python",
   "name": "python",
   "nbconvert_exporter": "python",
   "pygments_lexer": "ipython3",
   "version": "3.9.13"
  }
 },
 "nbformat": 4,
 "nbformat_minor": 5
}
